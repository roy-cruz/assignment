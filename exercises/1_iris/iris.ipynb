{
 "cells": [
  {
   "attachments": {},
   "cell_type": "markdown",
   "metadata": {},
   "source": [
    "# Iris Dataset Analysis"
   ]
  },
  {
   "attachments": {},
   "cell_type": "markdown",
   "metadata": {},
   "source": [
    "## Prepare the dataset"
   ]
  },
  {
   "attachments": {},
   "cell_type": "markdown",
   "metadata": {},
   "source": [
    "Use `numpy` or to load `data/iris.data`. Remember to look at the file contents to understand the data format."
   ]
  },
  {
   "cell_type": "code",
   "execution_count": 1,
   "metadata": {},
   "outputs": [],
   "source": [
    "import numpy as np"
   ]
  },
  {
   "attachments": {},
   "cell_type": "markdown",
   "metadata": {},
   "source": [
    "Create a map that returns the attribute name given the attribute index.\n",
    "\n",
    "- 0 -> sepal length\n",
    "- 1 -> sepal width\n",
    "- 2 -> petal length\n",
    "- 3 -> petal width"
   ]
  },
  {
   "cell_type": "code",
   "execution_count": 2,
   "metadata": {},
   "outputs": [
    {
     "name": "stdout",
     "output_type": "stream",
     "text": [
      "--2025-06-18 14:44:24--  https://archive.ics.uci.edu/static/public/53/iris.zip\n",
      "Resolving archive.ics.uci.edu (archive.ics.uci.edu)... 128.195.10.252\n",
      "Connecting to archive.ics.uci.edu (archive.ics.uci.edu)|128.195.10.252|:443... connected.\n",
      "HTTP request sent, awaiting response... 200 OK\n",
      "Length: unspecified\n",
      "Saving to: ‘iris.zip’\n",
      "\n",
      "iris.zip                [ <=>                ]   3.65K  --.-KB/s    in 0s      \n",
      "\n",
      "2025-06-18 14:44:24 (223 MB/s) - ‘iris.zip’ saved [3738]\n",
      "\n",
      "--2025-06-18 14:44:24--  http://./\n",
      "Resolving . (.)... failed: nodename nor servname provided, or not known.\n",
      "wget: unable to resolve host address ‘.’\n",
      "FINISHED --2025-06-18 14:44:24--\n",
      "Total wall clock time: 0.3s\n",
      "Downloaded: 1 files, 3.7K in 0s (223 MB/s)\n"
     ]
    }
   ],
   "source": [
    "!wget https://archive.ics.uci.edu/static/public/53/iris.zip"
   ]
  },
  {
   "cell_type": "code",
   "execution_count": 3,
   "metadata": {},
   "outputs": [
    {
     "name": "stdout",
     "output_type": "stream",
     "text": [
      "/Users/roycruz/Local/test/assignment/exercises/1_iris\n"
     ]
    }
   ],
   "source": [
    "!pwd"
   ]
  },
  {
   "cell_type": "code",
   "execution_count": 6,
   "metadata": {},
   "outputs": [
    {
     "name": "stdout",
     "output_type": "stream",
     "text": [
      "README.md  iris.ipynb iris.zip   \u001b[1m\u001b[36miris_venv\u001b[m\u001b[m\n"
     ]
    }
   ],
   "source": [
    "!ls "
   ]
  },
  {
   "attachments": {},
   "cell_type": "markdown",
   "metadata": {},
   "source": [
    "## Data analysis"
   ]
  },
  {
   "attachments": {},
   "cell_type": "markdown",
   "metadata": {},
   "source": [
    "Write a function that prints the mean and another that prints the standard deviation of each attribute."
   ]
  },
  {
   "cell_type": "code",
   "execution_count": null,
   "metadata": {},
   "outputs": [],
   "source": []
  },
  {
   "attachments": {},
   "cell_type": "markdown",
   "metadata": {},
   "source": [
    "Use the functions you defined above to print the mean of the attributes for each class."
   ]
  },
  {
   "cell_type": "code",
   "execution_count": null,
   "metadata": {},
   "outputs": [],
   "source": []
  },
  {
   "attachments": {},
   "cell_type": "markdown",
   "metadata": {},
   "source": [
    "Now, let's plot this data. Use `matplotlib` to create scatter plots for petal and sepal. Use different colors for each class."
   ]
  },
  {
   "cell_type": "code",
   "execution_count": null,
   "metadata": {},
   "outputs": [],
   "source": []
  }
 ],
 "metadata": {
  "kernelspec": {
   "display_name": "Python 3 (ipykernel)",
   "language": "python",
   "name": "python3"
  },
  "language_info": {
   "codemirror_mode": {
    "name": "ipython",
    "version": 3
   },
   "file_extension": ".py",
   "mimetype": "text/x-python",
   "name": "python",
   "nbconvert_exporter": "python",
   "pygments_lexer": "ipython3",
   "version": "3.13.1"
  }
 },
 "nbformat": 4,
 "nbformat_minor": 4
}
